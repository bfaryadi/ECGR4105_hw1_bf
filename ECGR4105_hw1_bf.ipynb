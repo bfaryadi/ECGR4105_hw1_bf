{
  "nbformat": 4,
  "nbformat_minor": 0,
  "metadata": {
    "colab": {
      "provenance": [],
      "collapsed_sections": [
        "Ksx3dQUo0cAN"
      ]
    },
    "kernelspec": {
      "name": "python3",
      "display_name": "Python 3"
    },
    "language_info": {
      "name": "python"
    }
  },
  "cells": [
    {
      "cell_type": "markdown",
      "source": [
        "\n",
        "\n",
        "questions\n",
        "1. for 1.1 and 1.2, seems like the answer is in the code. for 1.3 and 1.4 though, does the response go in the pdf? or a text block in this file\n"
      ],
      "metadata": {
        "id": "yBM9K15A1vHg"
      }
    },
    {
      "cell_type": "code",
      "execution_count": null,
      "metadata": {
        "id": "_UIXmqxCiBoG"
      },
      "outputs": [],
      "source": [
        "import numpy as np\n",
        "import pandas as pd\n",
        "import matplotlib.pyplot as plt"
      ]
    },
    {
      "cell_type": "code",
      "source": [
        "def compute_cost(x, y, theta):\n",
        "  # calculating Y'; this will change as w changes\n",
        "  predictions = x.dot(theta)\n",
        "\n",
        "  # Y' - y\n",
        "  errors = np.subtract(predictions, y)\n",
        "\n",
        "  # (Y' - y)^2\n",
        "  sqr_errors = np.square(errors)\n",
        "\n",
        "  # the summation and multiplication steps of loss formula\n",
        "  L = 1/(2*m) * np.sum(sqr_errors)\n",
        "\n",
        "  return L"
      ],
      "metadata": {
        "id": "W6Ecz3s5lwJ9"
      },
      "execution_count": null,
      "outputs": []
    },
    {
      "cell_type": "code",
      "source": [
        "def gradient_descent(x, y, theta, alpha, iterations):\n",
        "  m = len(y)\n",
        "  cost_history = np.zeros(iterations)\n",
        "\n",
        "  for i in range(iterations):\n",
        "    # Y'\n",
        "    predictions = x.dot(theta) # number of variables in x must match number of thetas\n",
        "\n",
        "    # Y' - y\n",
        "    errors = np.subtract(predictions, y)\n",
        "\n",
        "    # dL/dw; performs (Y' - y)*Xn summation and then divides by m\n",
        "    sum_delta = (1/m)*x.transpose().dot(errors)\n",
        "\n",
        "    # w(t+1) = w(t) - a*dL/dw\n",
        "    theta -= alpha*sum_delta\n",
        "\n",
        "    # store cost of current theta values\n",
        "    cost_history[i] = compute_cost(x, y, theta)\n",
        "\n",
        "  return theta, cost_history"
      ],
      "metadata": {
        "id": "Dw_xnTm_n-cj"
      },
      "execution_count": null,
      "outputs": []
    },
    {
      "cell_type": "code",
      "source": [
        "# load data\n",
        "url = 'https://raw.githubusercontent.com/HamedTabkhi/Intro-to-ML/main/Dataset/D3.csv'\n",
        "df = pd.read_csv(url)\n",
        "\n",
        "# print(df.head())"
      ],
      "metadata": {
        "id": "dTcZRNxNiVgA"
      },
      "execution_count": null,
      "outputs": []
    },
    {
      "cell_type": "code",
      "source": [
        "# store length of data\n",
        "m = len(df)\n",
        "\n",
        "# print(m)\n",
        "\n",
        "# separate columns\n",
        "x1 = df.values[:,0]\n",
        "x2 = df.values[:,1]\n",
        "x3 = df.values[:,2]\n",
        "y = df.values[:,3]\n",
        "\n",
        "# print('x1 = ', x1[:5])\n",
        "# print('x2 = ', x2[:5])\n",
        "# print('x3 = ', x3[:5])\n",
        "# print('y = ', y[:5])"
      ],
      "metadata": {
        "colab": {
          "base_uri": "https://localhost:8080/"
        },
        "id": "ww7f-dlzUXke",
        "outputId": "30a63fa0-3b24-4a67-c287-c9b15ab6e935"
      },
      "execution_count": null,
      "outputs": [
        {
          "output_type": "stream",
          "name": "stdout",
          "text": [
            "100\n"
          ]
        }
      ]
    },
    {
      "cell_type": "code",
      "source": [
        "# create/reshape variable arrays into 2d arrays\n",
        "x0 = np.ones((m,1))\n",
        "x1 = x1.reshape(m,1)\n",
        "x2 = x2.reshape(m,1)\n",
        "x3 = x3.reshape(m,1)\n",
        "\n",
        "# new array containing x0's as the first column and x1's as the second\n",
        "x01 = np.hstack((x0, x1))\n",
        "x02 = np.hstack((x0, x2))\n",
        "x03 = np.hstack((x0, x3))"
      ],
      "metadata": {
        "id": "uEmOyO8KlCyZ"
      },
      "execution_count": null,
      "outputs": []
    },
    {
      "cell_type": "markdown",
      "source": [
        "# 1.1 Linear models for individual explanatory variables"
      ],
      "metadata": {
        "id": "3vTbloKHzFpx"
      }
    },
    {
      "cell_type": "code",
      "source": [
        "theta = np.zeros(2)\n",
        "iterations = 4500\n",
        "alpha = 0.01\n",
        "\n",
        "theta1, cost_history1 = gradient_descent(x01, y, theta, alpha, iterations)\n",
        "print(f'theta for x1 = {theta1}')\n",
        "print(f'cost history for x1 = {cost_history1}')\n",
        "print()\n",
        "\n",
        "theta2, cost_history2 = gradient_descent(x02, y, theta, alpha, iterations)\n",
        "print(f'theta for x2 = {theta2}')\n",
        "print(f'cost history for x2 = {cost_history2}')\n",
        "print()\n",
        "\n",
        "theta3, cost_history3 = gradient_descent(x03, y, theta, alpha, iterations)\n",
        "print(f'theta for x3 = {theta3}')\n",
        "print(f'cost history for x3 = {cost_history3}')\n",
        "print()"
      ],
      "metadata": {
        "colab": {
          "base_uri": "https://localhost:8080/"
        },
        "id": "W2S9EbuQpkd5",
        "outputId": "5adbe4c0-ad24-462e-feda-6506ef367343"
      },
      "execution_count": null,
      "outputs": [
        {
          "output_type": "stream",
          "name": "stdout",
          "text": [
            "theta for x1 = [ 5.92767927 -2.03823168]\n",
            "cost history for x1 = [5.48226715 5.44290965 5.40604087 ... 0.98499309 0.98499309 0.98499309]\n",
            "\n",
            "theta for x2 = [0.73630934 0.55751073]\n",
            "cost history for x2 = [8.06081776 7.95204285 7.85434384 ... 3.59936603 3.59936603 3.59936603]\n",
            "\n",
            "theta for x3 = [ 2.8713337  -0.52044792]\n",
            "cost history for x3 = [4.3886359  4.37142475 4.35588589 ... 3.62945113 3.62945113 3.62945113]\n",
            "\n"
          ]
        }
      ]
    },
    {
      "cell_type": "markdown",
      "source": [
        "# 1.2 Plotting final regression models and loss over iterations for each explanatory variable"
      ],
      "metadata": {
        "id": "Ksx3dQUo0cAN"
      }
    },
    {
      "cell_type": "code",
      "source": [
        "# final regression model for x1\n",
        "plt.scatter(x01[:,1], y, color='red', marker='+')\n",
        "\n",
        "x1_predictions = x01.dot(theta1)\n",
        "plt.plot(x01[:,1], x1_predictions, color='green')\n",
        "\n",
        "plt.show()"
      ],
      "metadata": {
        "colab": {
          "base_uri": "https://localhost:8080/",
          "height": 433
        },
        "id": "pgFbeNw4wPIs",
        "outputId": "366df049-8f52-4874-efc5-bb32260e66c8"
      },
      "execution_count": null,
      "outputs": [
        {
          "output_type": "display_data",
          "data": {
            "text/plain": [
              "<Figure size 640x480 with 1 Axes>"
            ],
            "image/png": "[encoded data removed]"
          },
          "metadata": {}
        }
      ]
    },
    {
      "cell_type": "code",
      "source": [
        "# loss function for x1 over iterations\n",
        "plt.plot(range(1, iterations+1), cost_history1, color='blue')\n",
        "\n",
        "plt.show()"
      ],
      "metadata": {
        "colab": {
          "base_uri": "https://localhost:8080/",
          "height": 430
        },
        "id": "g1rHinFmxjvz",
        "outputId": "f744d9db-9cf4-48c2-f71c-457cda20a420"
      },
      "execution_count": null,
      "outputs": [
        {
          "output_type": "display_data",
          "data": {
            "text/plain": [
              "<Figure size 640x480 with 1 Axes>"
            ],
            "image/png": "[encoded data removed]"
          },
          "metadata": {}
        }
      ]
    },
    {
      "cell_type": "code",
      "source": [
        "# final regression model for x2\n",
        "plt.scatter(x02[:,1], y, color='red', marker='+')\n",
        "\n",
        "x2_predictions = x02.dot(theta2)\n",
        "plt.plot(x02[:,1], x2_predictions, color='green')\n",
        "\n",
        "plt.show()"
      ],
      "metadata": {
        "colab": {
          "base_uri": "https://localhost:8080/",
          "height": 433
        },
        "id": "6Pp4ytBUxM3i",
        "outputId": "d60583ac-2b28-4e83-8b64-7aaba895457c"
      },
      "execution_count": null,
      "outputs": [
        {
          "output_type": "display_data",
          "data": {
            "text/plain": [
              "<Figure size 640x480 with 1 Axes>"
            ],
            "image/png": "[encoded data removed]"
          },
          "metadata": {}
        }
      ]
    },
    {
      "cell_type": "code",
      "source": [
        "# loss function for x2 over iterations\n",
        "plt.plot(range(1, iterations+1), cost_history2, color='blue')\n",
        "\n",
        "plt.show()"
      ],
      "metadata": {
        "colab": {
          "base_uri": "https://localhost:8080/",
          "height": 430
        },
        "id": "iEUvyvlCySXp",
        "outputId": "cd221a91-9639-4edd-accf-bf576fb8d331"
      },
      "execution_count": null,
      "outputs": [
        {
          "output_type": "display_data",
          "data": {
            "text/plain": [
              "<Figure size 640x480 with 1 Axes>"
            ],
            "image/png": "[encoded data removed]"
          },
          "metadata": {}
        }
      ]
    },
    {
      "cell_type": "code",
      "source": [
        "# final regression model for x3\n",
        "plt.scatter(x03[:,1], y, color='red', marker='+')\n",
        "\n",
        "x3_predictions = x03.dot(theta3)\n",
        "plt.plot(x03[:,1], x3_predictions, color='green')\n",
        "\n",
        "plt.show()"
      ],
      "metadata": {
        "colab": {
          "base_uri": "https://localhost:8080/",
          "height": 433
        },
        "id": "7F2jKYiJxUmD",
        "outputId": "b2833086-1357-4caa-c6f6-930be4518be0"
      },
      "execution_count": null,
      "outputs": [
        {
          "output_type": "display_data",
          "data": {
            "text/plain": [
              "<Figure size 640x480 with 1 Axes>"
            ],
            "image/png": "[encoded data removed]"
          },
          "metadata": {}
        }
      ]
    },
    {
      "cell_type": "code",
      "source": [
        "# loss function for x3 over iterations\n",
        "plt.plot(range(1, iterations+1), cost_history3, color='blue')\n",
        "\n",
        "plt.show()"
      ],
      "metadata": {
        "colab": {
          "base_uri": "https://localhost:8080/",
          "height": 430
        },
        "id": "fDH5je0GyXRk",
        "outputId": "58636ab1-f3a3-4f0c-ecd2-9049db40080a"
      },
      "execution_count": null,
      "outputs": [
        {
          "output_type": "display_data",
          "data": {
            "text/plain": [
              "<Figure size 640x480 with 1 Axes>"
            ],
            "image/png": "[encoded data removed]"
          },
          "metadata": {}
        }
      ]
    },
    {
      "cell_type": "markdown",
      "source": [
        "# Problem 2"
      ],
      "metadata": {
        "id": "l1EpzmW24Snq"
      }
    },
    {
      "cell_type": "code",
      "source": [
        "# recall that explanatory variables have already been separated into x0, x1, x2, x3\n",
        "\n",
        "# new array containing all 4 x's\n",
        "x = np.hstack((x0, x1, x2, x3))"
      ],
      "metadata": {
        "colab": {
          "base_uri": "https://localhost:8080/"
        },
        "id": "CRsP3WjX4RbQ",
        "outputId": "c73325e5-62b7-4e3d-ab92-4c2639b148f2"
      },
      "execution_count": null,
      "outputs": [
        {
          "output_type": "execute_result",
          "data": {
            "text/plain": [
              "array([[1.        , 0.        , 3.44      , 0.44      ],\n",
              "       [1.        , 0.04040404, 0.1349495 , 0.88848485],\n",
              "       [1.        , 0.08080808, 0.82989899, 1.3369697 ],\n",
              "       [1.        , 0.12121212, 1.52484848, 1.78545454],\n",
              "       [1.        , 0.16161616, 2.21979798, 2.23393939],\n",
              "       [1.        , 0.2020202 , 2.91474747, 2.68242424],\n",
              "       [1.        , 0.24242424, 3.60969697, 3.13090909],\n",
              "       [1.        , 0.28282828, 0.30464646, 3.57939394],\n",
              "       [1.        , 0.32323232, 0.99959596, 0.02787879],\n",
              "       [1.        , 0.36363636, 1.69454546, 0.47636364]])"
            ]
          },
          "metadata": {},
          "execution_count": 66
        }
      ]
    },
    {
      "cell_type": "markdown",
      "source": [
        "# 2.1 Linear model"
      ],
      "metadata": {
        "id": "B1MCFCq6Lxfp"
      }
    },
    {
      "cell_type": "code",
      "source": [
        "# 4 thetas for 4 variables\n",
        "theta = np.zeros(4)\n",
        "iterations = 1500\n",
        "alpha = 0.01\n",
        "\n",
        "theta, cost_history = gradient_descent(x, y, theta, alpha, iterations)\n",
        "print(f'thetas = {theta}')\n",
        "print(f'cost history = {cost_history}')\n",
        "print()"
      ],
      "metadata": {
        "colab": {
          "base_uri": "https://localhost:8080/"
        },
        "id": "gA9_O5qoKgC1",
        "outputId": "c6b35136-7748-4c8c-84b4-49ab6a467844"
      },
      "execution_count": null,
      "outputs": [
        {
          "output_type": "stream",
          "name": "stdout",
          "text": [
            "thetas = [ 4.15118728 -1.8394291   0.72473856 -0.09513266]\n",
            "cost history = [5.21542243 4.97171977 4.7765543  ... 0.81079843 0.81065429 0.81051044]\n",
            "\n"
          ]
        }
      ]
    },
    {
      "cell_type": "markdown",
      "source": [
        "# 2.2 Loss over iterations"
      ],
      "metadata": {
        "id": "zFiTkfBLL7u4"
      }
    },
    {
      "cell_type": "code",
      "source": [
        "plt.plot(range(1, iterations+1), cost_history, color='blue')\n",
        "\n",
        "plt.show()"
      ],
      "metadata": {
        "colab": {
          "base_uri": "https://localhost:8080/",
          "height": 430
        },
        "id": "G1lXDsg6MIqS",
        "outputId": "a72c190a-a668-4652-ba4d-4a424cc6cef6"
      },
      "execution_count": null,
      "outputs": [
        {
          "output_type": "display_data",
          "data": {
            "text/plain": [
              "<Figure size 640x480 with 1 Axes>"
            ],
            "image/png": "[encoded data removed]"
          },
          "metadata": {}
        }
      ]
    },
    {
      "cell_type": "markdown",
      "source": [
        "# 2.4 Predicting Y values for new X values"
      ],
      "metadata": {
        "id": "GfcA8SgFOCDt"
      }
    },
    {
      "cell_type": "code",
      "source": [
        "# set up matrix for new data\n",
        "new_data = [[1, 1, 1], [2, 0, 4], [3, 2, 1]]\n",
        "x0 = np.ones((3, 1))\n",
        "new_data = np.hstack((x0, new_data))\n",
        "\n",
        "# run prediction using thetas calculated from gradient descent\n",
        "predictions = new_data.dot(theta)\n",
        "\n",
        "print(f'Using thetas: {theta}\\n')\n",
        "print(f'Prediction for (1, 1, 1): Y = {predictions[0]}')\n",
        "print(f'Prediction for (2, 0, 4): Y = {predictions[1]}')\n",
        "print(f'Prediction for (3, 2, 1): Y = {predictions[2]}')"
      ],
      "metadata": {
        "colab": {
          "base_uri": "https://localhost:8080/"
        },
        "id": "DFjLUExBOIbQ",
        "outputId": "64929dee-c1a5-4f24-aefe-4cb5bbd62195"
      },
      "execution_count": null,
      "outputs": [
        {
          "output_type": "stream",
          "name": "stdout",
          "text": [
            "Using thetas: [ 4.15118728 -1.8394291   0.72473856 -0.09513266]\n",
            "\n",
            "Prediction for (1, 1, 1): Y = 2.9413640816645295\n",
            "Prediction for (2, 0, 4): Y = 0.09179843075891547\n",
            "Prediction for (3, 2, 1): Y = -0.012755552822328653\n"
          ]
        }
      ]
    }
  ]
}